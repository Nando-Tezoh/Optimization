{
 "cells": [
  {
   "cell_type": "markdown",
   "metadata": {},
   "source": [
    "## This Code is Support Vector Machine Optimization Problem.\n",
    "\n",
    "#### We were only looking for the weights and the Bias in the case of Iris datasets"
   ]
  },
  {
   "cell_type": "code",
   "execution_count": 1,
   "metadata": {},
   "outputs": [],
   "source": [
    "import numpy as np\n",
    "import matplotlib.pyplot as plt\n",
    "import scipy as sp\n",
    "import pandas as pd\n",
    "import seaborn as sns\n",
    "from sklearn.datasets import load_iris\n",
    "\n",
    "### import packages to solve the Quadratic programming\n",
    "\n",
    "from cvxopt import matrix, solvers"
   ]
  },
  {
   "cell_type": "code",
   "execution_count": 2,
   "metadata": {},
   "outputs": [],
   "source": [
    "data =load_iris()"
   ]
  },
  {
   "cell_type": "code",
   "execution_count": 3,
   "metadata": {},
   "outputs": [],
   "source": [
    "\n",
    "Y  = data.target[data.target!=2]\n",
    "X = data.data[:,:2][:100]"
   ]
  },
  {
   "cell_type": "code",
   "execution_count": 4,
   "metadata": {},
   "outputs": [],
   "source": [
    "Y = np.where(Y==0,-1,1)"
   ]
  },
  {
   "cell_type": "code",
   "execution_count": 5,
   "metadata": {},
   "outputs": [],
   "source": [
    "A = Y.reshape(1, -1)\n",
    "A= A.astype('float')\n",
    "A = matrix(A)"
   ]
  },
  {
   "cell_type": "code",
   "execution_count": null,
   "metadata": {},
   "outputs": [],
   "source": []
  },
  {
   "cell_type": "code",
   "execution_count": 6,
   "metadata": {},
   "outputs": [
    {
     "name": "stdout",
     "output_type": "stream",
     "text": [
      "The features shape and the target shape are respectively\n",
      "(100, 2)\n",
      "(100,)\n"
     ]
    }
   ],
   "source": [
    "print ('The features shape and the target shape are respectively\\n{}\\n{}'\n",
    "       .format(X.shape,Y.shape))"
   ]
  },
  {
   "cell_type": "code",
   "execution_count": 7,
   "metadata": {},
   "outputs": [
    {
     "data": {
      "text/plain": [
       "<matplotlib.collections.PathCollection at 0x7f08d3625ba8>"
      ]
     },
     "execution_count": 7,
     "metadata": {},
     "output_type": "execute_result"
    },
    {
     "data": {
      "image/png": "[encoded data removed]",
      "text/plain": [
       "<Figure size 432x288 with 1 Axes>"
      ]
     },
     "metadata": {
      "needs_background": "light"
     },
     "output_type": "display_data"
    }
   ],
   "source": [
    "plt.scatter(X[:,1],X[:,0])"
   ]
  },
  {
   "cell_type": "code",
   "execution_count": 8,
   "metadata": {},
   "outputs": [
    {
     "data": {
      "image/png": "[encoded data removed]",
      "text/plain": [
       "<Figure size 432x288 with 1 Axes>"
      ]
     },
     "metadata": {},
     "output_type": "display_data"
    }
   ],
   "source": [
    "sns.set_style('white')\n",
    "sns.scatterplot(X[:,0],X[:,1],hue=Y.reshape(-1));"
   ]
  },
  {
   "cell_type": "code",
   "execution_count": null,
   "metadata": {},
   "outputs": [],
   "source": []
  },
  {
   "cell_type": "code",
   "execution_count": null,
   "metadata": {},
   "outputs": [],
   "source": []
  },
  {
   "cell_type": "code",
   "execution_count": 9,
   "metadata": {},
   "outputs": [],
   "source": [
    "### Reshape the target variable\n",
    "Y=Y.reshape(-1,1)"
   ]
  },
  {
   "cell_type": "code",
   "execution_count": 10,
   "metadata": {},
   "outputs": [],
   "source": [
    "## Construct the Matrix Y1=YY.T\n",
    "Y1=np.dot(Y,Y.T)"
   ]
  },
  {
   "cell_type": "code",
   "execution_count": 11,
   "metadata": {},
   "outputs": [],
   "source": [
    "## Construct the matrix X1=XX.T\n",
    "X1 = np.dot(X,X.T)"
   ]
  },
  {
   "cell_type": "code",
   "execution_count": 12,
   "metadata": {},
   "outputs": [],
   "source": [
    "## Quadratatic Matrix\n",
    "Q = np.multiply(Y1,X1)"
   ]
  },
  {
   "cell_type": "code",
   "execution_count": 13,
   "metadata": {},
   "outputs": [],
   "source": [
    "Q = matrix(Q)"
   ]
  },
  {
   "cell_type": "code",
   "execution_count": 14,
   "metadata": {},
   "outputs": [],
   "source": [
    "### Small q matrix \n",
    "p = -1*np.ones((len(X1),1))"
   ]
  },
  {
   "cell_type": "code",
   "execution_count": 15,
   "metadata": {},
   "outputs": [],
   "source": [
    "p=matrix(p)"
   ]
  },
  {
   "cell_type": "code",
   "execution_count": 16,
   "metadata": {},
   "outputs": [],
   "source": [
    "apl =np.identity(len(X1))"
   ]
  },
  {
   "cell_type": "code",
   "execution_count": 17,
   "metadata": {},
   "outputs": [],
   "source": [
    "G = -1*apl"
   ]
  },
  {
   "cell_type": "code",
   "execution_count": 18,
   "metadata": {},
   "outputs": [],
   "source": [
    "G = matrix(G)"
   ]
  },
  {
   "cell_type": "code",
   "execution_count": 19,
   "metadata": {},
   "outputs": [],
   "source": [
    "h =np.zeros(len(X1))"
   ]
  },
  {
   "cell_type": "code",
   "execution_count": 20,
   "metadata": {},
   "outputs": [],
   "source": [
    "h=matrix(h)"
   ]
  },
  {
   "cell_type": "code",
   "execution_count": 21,
   "metadata": {},
   "outputs": [],
   "source": [
    "b = matrix(np.zeros(1))"
   ]
  },
  {
   "cell_type": "code",
   "execution_count": 22,
   "metadata": {},
   "outputs": [
    {
     "name": "stdout",
     "output_type": "stream",
     "text": [
      "     pcost       dcost       gap    pres   dres\n",
      " 0: -1.7589e+01 -3.8372e+01  3e+02  2e+01  2e+00\n",
      " 1: -3.0327e+01 -3.6084e+01  1e+02  6e+00  7e-01\n",
      " 2: -5.7223e+01 -5.3982e+01  1e+02  4e+00  5e-01\n",
      " 3: -4.3062e+01 -4.2587e+01  5e+01  1e+00  2e-01\n",
      " 4: -3.3934e+01 -3.4338e+01  4e+00  9e-02  1e-02\n",
      " 5: -3.3794e+01 -3.3801e+01  4e-02  1e-03  1e-04\n",
      " 6: -3.3795e+01 -3.3795e+01  4e-04  1e-05  1e-06\n",
      " 7: -3.3795e+01 -3.3795e+01  4e-06  1e-07  1e-08\n",
      "Optimal solution found.\n"
     ]
    }
   ],
   "source": [
    "sol=solvers.qp(Q,p,G,h,A,b)"
   ]
  },
  {
   "cell_type": "code",
   "execution_count": 23,
   "metadata": {},
   "outputs": [],
   "source": [
    "Solu = np.array(sol['x'])"
   ]
  },
  {
   "cell_type": "code",
   "execution_count": null,
   "metadata": {},
   "outputs": [],
   "source": []
  },
  {
   "cell_type": "code",
   "execution_count": 24,
   "metadata": {},
   "outputs": [],
   "source": [
    "### Write a function."
   ]
  },
  {
   "cell_type": "code",
   "execution_count": 25,
   "metadata": {},
   "outputs": [],
   "source": [
    "Y  = data.target[data.target!=2]\n",
    "X = data.data[:,:2][:100]\n",
    "Y = np.where(Y==0,-1,1)"
   ]
  },
  {
   "cell_type": "code",
   "execution_count": null,
   "metadata": {},
   "outputs": [],
   "source": []
  },
  {
   "cell_type": "code",
   "execution_count": 26,
   "metadata": {},
   "outputs": [],
   "source": [
    "def fit(x, y): \n",
    "    N = x.shape[0]\n",
    "    M = x.shape[0]\n",
    "    ### Reshape the target variable\n",
    "    y=y.reshape(-1,1)\n",
    "    y1=np.dot(y,y.T)\n",
    "    x1 = np.dot(x,x.T)\n",
    "    Q = np.multiply(y1,x1)\n",
    "    P = matrix(Q)\n",
    "    q =matrix(-1*np.ones((N,1)))\n",
    "    #q = matrix(-np.ones((N, 1)))\n",
    "    G =matrix(-1*np.identity(N))\n",
    "    #G = matrix(-np.eye(M))\n",
    "    h = matrix(np.zeros(M))\n",
    "    A = y.T\n",
    "    A= A.astype('float')\n",
    "    A = matrix(A)\n",
    "    b = matrix(np.zeros(1))\n",
    "    sol = solvers.qp(P, q, G, h, A, b)\n",
    "    alpha_n = np.array(sol['x'])\n",
    "    #print(G.size)\n",
    "    return alpha_n"
   ]
  },
  {
   "cell_type": "code",
   "execution_count": 27,
   "metadata": {},
   "outputs": [
    {
     "name": "stdout",
     "output_type": "stream",
     "text": [
      "     pcost       dcost       gap    pres   dres\n",
      " 0: -1.7589e+01 -3.8372e+01  3e+02  2e+01  2e+00\n",
      " 1: -3.0327e+01 -3.6084e+01  1e+02  6e+00  7e-01\n",
      " 2: -5.7223e+01 -5.3982e+01  1e+02  4e+00  5e-01\n",
      " 3: -4.3062e+01 -4.2587e+01  5e+01  1e+00  2e-01\n",
      " 4: -3.3934e+01 -3.4338e+01  4e+00  9e-02  1e-02\n",
      " 5: -3.3794e+01 -3.3801e+01  4e-02  1e-03  1e-04\n",
      " 6: -3.3795e+01 -3.3795e+01  4e-04  1e-05  1e-06\n",
      " 7: -3.3795e+01 -3.3795e+01  4e-06  1e-07  1e-08\n",
      "Optimal solution found.\n"
     ]
    }
   ],
   "source": [
    "## Weight\n",
    "Solu = fit(X,Y)"
   ]
  },
  {
   "cell_type": "code",
   "execution_count": 28,
   "metadata": {},
   "outputs": [],
   "source": [
    "Y=Y.reshape(-1,1)"
   ]
  },
  {
   "cell_type": "code",
   "execution_count": 29,
   "metadata": {},
   "outputs": [],
   "source": [
    "w = np.sum(Solu*Y*X,axis=0)"
   ]
  },
  {
   "cell_type": "code",
   "execution_count": 32,
   "metadata": {},
   "outputs": [],
   "source": [
    "cond = (Solu > 1e-4).reshape(-1)\n",
    "b = Y[cond] - np.dot(X[cond], w)\n",
    "bias = b[0]"
   ]
  },
  {
   "cell_type": "code",
   "execution_count": 33,
   "metadata": {},
   "outputs": [
    {
     "data": {
      "text/plain": [
       "array([-17.31578944, -17.31578944, -19.31578943, -19.31578944])"
      ]
     },
     "execution_count": 33,
     "metadata": {},
     "output_type": "execute_result"
    }
   ],
   "source": [
    "bias"
   ]
  },
  {
   "cell_type": "code",
   "execution_count": null,
   "metadata": {},
   "outputs": [],
   "source": []
  }
 ],
 "metadata": {
  "kernelspec": {
   "display_name": "Python 3",
   "language": "python",
   "name": "python3"
  },
  "language_info": {
   "codemirror_mode": {
    "name": "ipython",
    "version": 3
   },
   "file_extension": ".py",
   "mimetype": "text/x-python",
   "name": "python",
   "nbconvert_exporter": "python",
   "pygments_lexer": "ipython3",
   "version": "3.7.3"
  }
 },
 "nbformat": 4,
 "nbformat_minor": 4
}
